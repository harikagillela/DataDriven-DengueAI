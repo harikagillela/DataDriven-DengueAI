{
 "cells": [
  {
   "cell_type": "code",
   "execution_count": 1,
   "metadata": {},
   "outputs": [],
   "source": [
    "from sklearn.model_selection import train_test_split\n",
    "from sklearn.preprocessing import StandardScaler\n",
    "from sklearn.metrics import mean_squared_error\n",
    "from matplotlib.pyplot import figure\n",
    "import matplotlib.pyplot as plt\n",
    "import seaborn as sns\n",
    "%matplotlib inline\n",
    "from math import sqrt\n",
    "import pandas as pd\n",
    "import numpy as np\n",
    "from sklearn.svm import SVR\n",
    "from sklearn.svm import LinearSVR\n",
    "import warnings\n",
    "warnings.filterwarnings('ignore')"
   ]
  },
  {
   "cell_type": "code",
   "execution_count": 2,
   "metadata": {},
   "outputs": [],
   "source": [
    "df_x = pd.read_csv(\"dengue_features_train.csv\")\n",
    "#df_x = df_x.drop('reanalysis_sat_precip_amt_mm',axis=1)\n",
    "df_y = pd.read_csv(\"dengue_labels_train.csv\")"
   ]
  },
  {
   "cell_type": "code",
   "execution_count": 3,
   "metadata": {},
   "outputs": [
    {
     "data": {
      "text/plain": [
       "Index(['city', 'year', 'weekofyear', 'week_start_date', 'ndvi_ne', 'ndvi_nw',\n",
       "       'ndvi_se', 'ndvi_sw', 'precipitation_amt_mm', 'reanalysis_air_temp_k',\n",
       "       'reanalysis_avg_temp_k', 'reanalysis_dew_point_temp_k',\n",
       "       'reanalysis_max_air_temp_k', 'reanalysis_min_air_temp_k',\n",
       "       'reanalysis_precip_amt_kg_per_m2',\n",
       "       'reanalysis_relative_humidity_percent', 'reanalysis_sat_precip_amt_mm',\n",
       "       'reanalysis_specific_humidity_g_per_kg', 'reanalysis_tdtr_k',\n",
       "       'station_avg_temp_c', 'station_diur_temp_rng_c', 'station_max_temp_c',\n",
       "       'station_min_temp_c', 'station_precip_mm'],\n",
       "      dtype='object')"
      ]
     },
     "execution_count": 3,
     "metadata": {},
     "output_type": "execute_result"
    }
   ],
   "source": [
    "df_x.columns"
   ]
  },
  {
   "cell_type": "code",
   "execution_count": 4,
   "metadata": {},
   "outputs": [],
   "source": [
    "df = pd.merge(df_x, df_y,  how='left', left_on=['city','year','weekofyear'],right_on=['city','year','weekofyear'])"
   ]
  },
  {
   "cell_type": "code",
   "execution_count": 5,
   "metadata": {},
   "outputs": [],
   "source": [
    "df.columns = df.columns.str.replace(r\"reanalysis\", \"re_an\")\n",
    "df.columns = df.columns.str.replace(r\"humidity\", \"hd\")\n",
    "df.columns = df.columns.str.replace(r\"precipitation\",\"prec\")\n",
    "df.drop(['weekofyear', 'week_start_date'],1,inplace=True)"
   ]
  },
  {
   "cell_type": "code",
   "execution_count": 6,
   "metadata": {},
   "outputs": [],
   "source": [
    "df = df.fillna(method='ffill')\n",
    "\n",
    "threshold_columns = ['ndvi_ne','ndvi_nw','ndvi_se','ndvi_sw']\n",
    "for i in threshold_columns:\n",
    "    df[i][df[i] <= 0.25] = 0\n",
    "    df[i][df[i] > 0.25] = 1\n",
    "    df[i] = df[i].astype('category')\n",
    "    \n",
    "categoricalFeatureNames = [\"city\", 'year','ndvi_ne','ndvi_nw','ndvi_se','ndvi_sw']\n",
    "for var in categoricalFeatureNames:\n",
    "    df[var] = df[var].astype(\"category\")\n",
    "\n",
    "df_y = df['total_cases']\n",
    "df.drop('total_cases',axis=1,inplace=True)"
   ]
  },
  {
   "cell_type": "code",
   "execution_count": 7,
   "metadata": {},
   "outputs": [],
   "source": [
    "X_train, X_test, y_train, y_test = train_test_split(df, df_y, test_size=0.20)\n",
    "\n",
    "X_train_categorical = X_train[categoricalFeatureNames]\n",
    "X_test_categorical = X_test[categoricalFeatureNames]\n",
    "\n",
    "df_train_numeric = X_train.drop(columns=['city', 'year',\n",
    "                                    'ndvi_ne','ndvi_nw','ndvi_se','ndvi_sw'])\n",
    "\n",
    "\n",
    "df_test_numeric = X_test.drop(columns=['city', 'year',\n",
    "                                    'ndvi_ne','ndvi_nw','ndvi_se','ndvi_sw'])\n",
    "\n",
    "df_train_dummies = pd.get_dummies(X_train_categorical)\n",
    "\n",
    "df_test_dummies = X_test_categorical.reindex(columns = df_train_dummies.columns, fill_value=0)"
   ]
  },
  {
   "cell_type": "code",
   "execution_count": 8,
   "metadata": {},
   "outputs": [],
   "source": [
    "scaler = StandardScaler()\n",
    "standardized_train_numeric_data = scaler.fit_transform(df_train_numeric)\n",
    "standardized_test_numeric_data = scaler.transform(df_test_numeric)\n",
    "\n",
    "df_standardized_train  = np.concatenate([standardized_train_numeric_data,np.array(df_train_dummies)],axis=1)\n",
    "df_standardized_test = np.concatenate([standardized_test_numeric_data,np.array(df_test_dummies)],axis=1)"
   ]
  },
  {
   "cell_type": "markdown",
   "metadata": {},
   "source": [
    "__Difference of the absolute of observed and predicted error helps in better understand the performance of the model. But this approach will pose an issue of giving equal weightage to nearly classified and very far classified points. So I will be using RMSE error as it gives weightage to very wrongly classified ones__"
   ]
  },
  {
   "cell_type": "code",
   "execution_count": 9,
   "metadata": {},
   "outputs": [
    {
     "name": "stdout",
     "output_type": "stream",
     "text": [
      "The RMSE error on the training set is  40.52748438716908\n",
      "The RMSE error on the testing set is  44.313488253673704\n"
     ]
    }
   ],
   "source": [
    "svr_lin = LinearSVR()\n",
    "#I am first using the default SVR as the default SVR will have pretty optimized parameters\n",
    "svr_lin.fit(df_standardized_train,y_train)\n",
    "y_train_predict = svr_lin.predict(df_standardized_train)\n",
    "y_test_predict = svr_lin.predict(df_standardized_test)\n",
    "train_error= sqrt(mean_squared_error(y_train, y_train_predict))\n",
    "test_error = sqrt(mean_squared_error(y_test, y_test_predict))\n",
    "print(\"The RMSE error on the training set is \", train_error)\n",
    "print(\"The RMSE error on the testing set is \", test_error)"
   ]
  },
  {
   "cell_type": "code",
   "execution_count": 10,
   "metadata": {},
   "outputs": [
    {
     "name": "stdout",
     "output_type": "stream",
     "text": [
      "The RMSE error on the training set is  39.075605578667\n",
      "The RMSE error on the testing set is  43.5487140051565\n"
     ]
    }
   ],
   "source": [
    "svr_lin = LinearSVR(C=30, loss = 'epsilon_insensitive',epsilon=0.4)\n",
    "# With a Penality value of 30,\n",
    "#L1 regularization set at 0.4\n",
    "svr_lin.fit(df_standardized_train,y_train)\n",
    "y_train_predict = svr_lin.predict(df_standardized_train)\n",
    "y_test_predict = svr_lin.predict(df_standardized_test)\n",
    "train_error= sqrt(mean_squared_error(y_train, y_train_predict))\n",
    "test_error = sqrt(mean_squared_error(y_test, y_test_predict))\n",
    "print(\"The RMSE error on the training set is \", train_error)\n",
    "print(\"The RMSE error on the testing set is \", test_error)"
   ]
  },
  {
   "cell_type": "markdown",
   "metadata": {},
   "source": [
    "As this is a linear hyperlane model, we have two features to train:\n",
    "    1. C the Choice of Penality. It is the level of strictness to apply on the misclassified points\n",
    "    2. L1  The regularization which adds the complexity to which the error has effect. If the Value is low then we are giving less emphasis on the cost function which is an add-on for the basic error"
   ]
  },
  {
   "cell_type": "code",
   "execution_count": 11,
   "metadata": {},
   "outputs": [
    {
     "data": {
      "text/plain": [
       "<matplotlib.legend.Legend at 0x7fb699354d10>"
      ]
     },
     "execution_count": 11,
     "metadata": {},
     "output_type": "execute_result"
    },
    {
     "data": {
      "image/png": "[encoded data removed]",
      "text/plain": [
       "<Figure size 576x432 with 1 Axes>"
      ]
     },
     "metadata": {
      "needs_background": "light"
     },
     "output_type": "display_data"
    }
   ],
   "source": [
    "train_errors, test_errors = [], []\n",
    "for m in range(1, len(df_standardized_train)):\n",
    "    svr_lin.fit(df_standardized_train[:m], y_train[:m])\n",
    "    y_train_predict = svr_lin.predict(df_standardized_train[:m])\n",
    "    y_test_predict = svr_lin.predict(df_standardized_test)\n",
    "    train_errors.append(sqrt(mean_squared_error(y_train[:m], y_train_predict)))\n",
    "    test_errors.append(sqrt(mean_squared_error(y_test, y_test_predict)))\n",
    "    \n",
    "figure(num=None, figsize=(8,6))    \n",
    "plt.plot(train_errors, \"b-\", linewidth=2, label = \"Train\")\n",
    "plt.plot(test_errors, \"r+-\", linewidth=3, label = \"Test\")\n",
    "plt.title(\"The Learning curve\")\n",
    "plt.legend(loc=\"upper right\", fontsize=10) \n",
    "plt.xlabel(\"Training size\", fontsize=10)\n",
    "plt.ylabel(\"RMSE\", fontsize=10)\n",
    "plt.legend()\n",
    "\n",
    "#The error in the training size is pretty high and fluctuates a lot with increase in the number of examples\n",
    "#Ideally we would expect the error to reduce with increase in train set, but the error on test is\n",
    "#reducing consistently and has steady error after 200 samples"
   ]
  },
  {
   "cell_type": "code",
   "execution_count": 12,
   "metadata": {},
   "outputs": [
    {
     "name": "stdout",
     "output_type": "stream",
     "text": [
      "The training error of the model is  40.46759598986242\n",
      "The testing error of the model is  40.85395235243734\n"
     ]
    }
   ],
   "source": [
    "lin_svr = SVR(kernel = 'linear')\n",
    "lin_svr.fit(df_standardized_train,y_train)\n",
    "y_train_predict = lin_svr.predict(df_standardized_train)\n",
    "y_test_predict = lin_svr.predict(df_standardized_test)\n",
    "train_errors= sqrt(mean_squared_error(y_train, y_train_predict))\n",
    "test_errors = sqrt(mean_squared_error(y_test, y_test_predict))\n",
    "print(\"The training error of the model is \", train_errors)\n",
    "print(\"The testing error of the model is \", test_errors)"
   ]
  },
  {
   "cell_type": "code",
   "execution_count": 13,
   "metadata": {},
   "outputs": [
    {
     "name": "stdout",
     "output_type": "stream",
     "text": [
      "The training error of the model is  39.14097450538682\n",
      "The testing error of the model is  40.16587593423261\n"
     ]
    }
   ],
   "source": [
    "lin_svr = SVR(C=50,kernel = 'linear',epsilon=0.3,coef0=0.1,gamma='auto')\n",
    "lin_svr.fit(df_standardized_train,y_train)\n",
    "y_train_predict = lin_svr.predict(df_standardized_train)\n",
    "y_test_predict = lin_svr.predict(df_standardized_test)\n",
    "train_errors= sqrt(mean_squared_error(y_train, y_train_predict))\n",
    "test_errors = sqrt(mean_squared_error(y_test, y_test_predict))\n",
    "print(\"The training error of the model is \", train_errors)\n",
    "print(\"The testing error of the model is \", test_errors)"
   ]
  },
  {
   "cell_type": "markdown",
   "metadata": {},
   "source": [
    "The SVR library has capability to create non-linear hyperplane\n",
    "\n",
    "    C - Level of Complexity on the error terms\n",
    "    \n",
    "    gamma - The extent to which a kernel can be used.\n",
    "    \n",
    "    Kernel - This specifies the dimensions to which a data can be projected. It projects and creates a linear line.\n",
    "    Incase of Non-linear, it can create a hyperplane by projecting data in much higher dimensions"
   ]
  },
  {
   "cell_type": "code",
   "execution_count": 14,
   "metadata": {},
   "outputs": [
    {
     "data": {
      "text/plain": [
       "<matplotlib.legend.Legend at 0x7fb6993cb450>"
      ]
     },
     "execution_count": 14,
     "metadata": {},
     "output_type": "execute_result"
    },
    {
     "data": {
      "image/png": "[encoded data removed]",
      "text/plain": [
       "<Figure size 432x288 with 1 Axes>"
      ]
     },
     "metadata": {
      "needs_background": "light"
     },
     "output_type": "display_data"
    }
   ],
   "source": [
    "train_errors, test_errors = [], []\n",
    "for m in range(1, len(df_standardized_train)):\n",
    "    lin_svr.fit(df_standardized_train[:m], y_train[:m])\n",
    "    y_train_predict = lin_svr.predict(df_standardized_train[:m])\n",
    "    y_test_predict = lin_svr.predict(df_standardized_test)\n",
    "    train_errors.append(sqrt(mean_squared_error(y_train[:m], y_train_predict)))\n",
    "    test_errors.append(sqrt(mean_squared_error(y_test, y_test_predict)))\n",
    "    \n",
    "plt.plot(train_errors, \"r+-\", linewidth=2, label = \"Train\")\n",
    "plt.plot(test_errors, \"b-\", linewidth=3, label = \"Test\")\n",
    "plt.title(\"The Learning curve\")\n",
    "plt.legend(loc=\"upper right\", fontsize=14) \n",
    "plt.xlabel(\"Training size\", fontsize=14)\n",
    "plt.ylabel(\"RMSE\", fontsize=14)\n",
    "plt.legend()"
   ]
  },
  {
   "cell_type": "code",
   "execution_count": 15,
   "metadata": {},
   "outputs": [],
   "source": [
    "test_df = pd.read_csv(\"dengue_features_test.csv\")\n",
    "test_df.columns = test_df.columns.str.replace(r\"reanalysis\", \"re_an\")\n",
    "test_df.columns = test_df.columns.str.replace(r\"humidity\", \"hd\")\n",
    "test_df.columns = test_df.columns.str.replace(r\"precipitation\",\"prec\")\n",
    "test_df = test_df.fillna(method='ffill')\n",
    "\n",
    "veg_features = ['ndvi_ne','ndvi_nw','ndvi_se','ndvi_sw']\n",
    "for i in veg_features:\n",
    "    test_df[i][test_df[i] <= 0.25] = 0\n",
    "    test_df[i][test_df[i] > 0.25] = 1\n",
    "    test_df[i] = test_df[i].astype('category')"
   ]
  },
  {
   "cell_type": "code",
   "execution_count": 16,
   "metadata": {},
   "outputs": [],
   "source": [
    "X_test_numeric = test_df.drop(columns=['city', 'year','ndvi_ne','ndvi_nw','ndvi_se','ndvi_sw',\n",
    "                                       'week_start_date','weekofyear'])\n",
    "test_df['year'] = test_df.year.astype('category')\n",
    "dummy_attributes = test_df[['city', 'year',\n",
    "                                    'ndvi_ne','ndvi_nw','ndvi_se','ndvi_sw']]\n",
    "# X_test_dummies = pd.get_dummies(dummy_attributes)\n",
    "X_test_dummies = dummy_attributes.reindex(columns = df_train_dummies.columns, fill_value=0)\n",
    "\n",
    "test_df_standardized = scaler.fit_transform(X_test_numeric)\n",
    "test_df_np = np.concatenate([test_df_standardized,np.array(X_test_dummies)],axis=1)"
   ]
  },
  {
   "cell_type": "code",
   "execution_count": 17,
   "metadata": {
    "scrolled": false
   },
   "outputs": [],
   "source": [
    "test_y_predict = lin_svr.predict(test_df_np)\n",
    "submission_df= test_df[[\"city\", \"year\",\"weekofyear\"]]\n",
    "submission_df[\"total_cases\"] = test_y_predict\n",
    "submission_df.to_csv(\"submission_SVR.csv\",index=False)"
   ]
  }
 ],
 "metadata": {
  "kernelspec": {
   "display_name": "Python 3",
   "language": "python",
   "name": "python3"
  },
  "language_info": {
   "codemirror_mode": {
    "name": "ipython",
    "version": 3
   },
   "file_extension": ".py",
   "mimetype": "text/x-python",
   "name": "python",
   "nbconvert_exporter": "python",
   "pygments_lexer": "ipython3",
   "version": "3.7.4"
  }
 },
 "nbformat": 4,
 "nbformat_minor": 2
}
