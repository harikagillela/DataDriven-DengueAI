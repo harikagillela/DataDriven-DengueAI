{
 "cells": [
  {
   "cell_type": "code",
   "execution_count": 1,
   "metadata": {},
   "outputs": [],
   "source": [
    "# Import required libraries\n",
    "import pandas as pd\n",
    "import datetime as dt\n",
    "import numpy as np\n",
    "import matplotlib.pyplot as plt\n",
    "from sklearn import preprocessing\n",
    "from sklearn.model_selection import train_test_split\n",
    "from sklearn.linear_model import SGDRegressor\n",
    "from sklearn.metrics import mean_squared_error\n",
    "from sklearn.metrics import mean_absolute_error\n",
    "from math import sqrt\n",
    "import warnings\n",
    "warnings.filterwarnings('ignore')"
   ]
  },
  {
   "cell_type": "code",
   "execution_count": 2,
   "metadata": {},
   "outputs": [
    {
     "data": {
      "text/plain": [
       "(1456, 25)"
      ]
     },
     "execution_count": 2,
     "metadata": {},
     "output_type": "execute_result"
    }
   ],
   "source": [
    "dengue_df = pd.read_csv('merged_data.csv')\n",
    "dengue_df.shape"
   ]
  },
  {
   "cell_type": "code",
   "execution_count": 3,
   "metadata": {},
   "outputs": [
    {
     "data": {
      "text/html": [
       "<div>\n",
       "<style scoped>\n",
       "    .dataframe tbody tr th:only-of-type {\n",
       "        vertical-align: middle;\n",
       "    }\n",
       "\n",
       "    .dataframe tbody tr th {\n",
       "        vertical-align: top;\n",
       "    }\n",
       "\n",
       "    .dataframe thead th {\n",
       "        text-align: right;\n",
       "    }\n",
       "</style>\n",
       "<table border=\"1\" class=\"dataframe\">\n",
       "  <thead>\n",
       "    <tr style=\"text-align: right;\">\n",
       "      <th></th>\n",
       "      <th>city</th>\n",
       "      <th>year</th>\n",
       "      <th>weekofyear</th>\n",
       "      <th>week_start_date</th>\n",
       "      <th>ndvi_ne</th>\n",
       "      <th>ndvi_nw</th>\n",
       "      <th>ndvi_se</th>\n",
       "      <th>ndvi_sw</th>\n",
       "      <th>prec_amt_mm</th>\n",
       "      <th>re_an_air_temp_k</th>\n",
       "      <th>...</th>\n",
       "      <th>re_an_relative_hd_percent</th>\n",
       "      <th>re_an_sat_precip_amt_mm</th>\n",
       "      <th>re_an_specific_hd_g_per_kg</th>\n",
       "      <th>re_an_tdtr_k</th>\n",
       "      <th>stn_avg_temp_c</th>\n",
       "      <th>stn_diur_temp_rng_c</th>\n",
       "      <th>stn_max_temp_c</th>\n",
       "      <th>stn_min_temp_c</th>\n",
       "      <th>stn_precip_mm</th>\n",
       "      <th>total_cases</th>\n",
       "    </tr>\n",
       "  </thead>\n",
       "  <tbody>\n",
       "    <tr>\n",
       "      <td>0</td>\n",
       "      <td>sj</td>\n",
       "      <td>1990</td>\n",
       "      <td>18</td>\n",
       "      <td>1990-04-30</td>\n",
       "      <td>0.122600</td>\n",
       "      <td>0.103725</td>\n",
       "      <td>0.198483</td>\n",
       "      <td>0.177617</td>\n",
       "      <td>12.42</td>\n",
       "      <td>297.572857</td>\n",
       "      <td>...</td>\n",
       "      <td>73.365714</td>\n",
       "      <td>12.42</td>\n",
       "      <td>14.012857</td>\n",
       "      <td>2.628571</td>\n",
       "      <td>25.442857</td>\n",
       "      <td>6.900000</td>\n",
       "      <td>29.4</td>\n",
       "      <td>20.0</td>\n",
       "      <td>16.0</td>\n",
       "      <td>4</td>\n",
       "    </tr>\n",
       "    <tr>\n",
       "      <td>1</td>\n",
       "      <td>sj</td>\n",
       "      <td>1990</td>\n",
       "      <td>19</td>\n",
       "      <td>1990-05-07</td>\n",
       "      <td>0.169900</td>\n",
       "      <td>0.142175</td>\n",
       "      <td>0.162357</td>\n",
       "      <td>0.155486</td>\n",
       "      <td>22.82</td>\n",
       "      <td>298.211429</td>\n",
       "      <td>...</td>\n",
       "      <td>77.368571</td>\n",
       "      <td>22.82</td>\n",
       "      <td>15.372857</td>\n",
       "      <td>2.371429</td>\n",
       "      <td>26.714286</td>\n",
       "      <td>6.371429</td>\n",
       "      <td>31.7</td>\n",
       "      <td>22.2</td>\n",
       "      <td>8.6</td>\n",
       "      <td>5</td>\n",
       "    </tr>\n",
       "    <tr>\n",
       "      <td>2</td>\n",
       "      <td>sj</td>\n",
       "      <td>1990</td>\n",
       "      <td>20</td>\n",
       "      <td>1990-05-14</td>\n",
       "      <td>0.032250</td>\n",
       "      <td>0.172967</td>\n",
       "      <td>0.157200</td>\n",
       "      <td>0.170843</td>\n",
       "      <td>34.54</td>\n",
       "      <td>298.781429</td>\n",
       "      <td>...</td>\n",
       "      <td>82.052857</td>\n",
       "      <td>34.54</td>\n",
       "      <td>16.848571</td>\n",
       "      <td>2.300000</td>\n",
       "      <td>26.714286</td>\n",
       "      <td>6.485714</td>\n",
       "      <td>32.2</td>\n",
       "      <td>22.8</td>\n",
       "      <td>41.4</td>\n",
       "      <td>4</td>\n",
       "    </tr>\n",
       "    <tr>\n",
       "      <td>3</td>\n",
       "      <td>sj</td>\n",
       "      <td>1990</td>\n",
       "      <td>21</td>\n",
       "      <td>1990-05-21</td>\n",
       "      <td>0.128633</td>\n",
       "      <td>0.245067</td>\n",
       "      <td>0.227557</td>\n",
       "      <td>0.235886</td>\n",
       "      <td>15.36</td>\n",
       "      <td>298.987143</td>\n",
       "      <td>...</td>\n",
       "      <td>80.337143</td>\n",
       "      <td>15.36</td>\n",
       "      <td>16.672857</td>\n",
       "      <td>2.428571</td>\n",
       "      <td>27.471429</td>\n",
       "      <td>6.771429</td>\n",
       "      <td>33.3</td>\n",
       "      <td>23.3</td>\n",
       "      <td>4.0</td>\n",
       "      <td>3</td>\n",
       "    </tr>\n",
       "    <tr>\n",
       "      <td>4</td>\n",
       "      <td>sj</td>\n",
       "      <td>1990</td>\n",
       "      <td>22</td>\n",
       "      <td>1990-05-28</td>\n",
       "      <td>0.196200</td>\n",
       "      <td>0.262200</td>\n",
       "      <td>0.251200</td>\n",
       "      <td>0.247340</td>\n",
       "      <td>7.52</td>\n",
       "      <td>299.518571</td>\n",
       "      <td>...</td>\n",
       "      <td>80.460000</td>\n",
       "      <td>7.52</td>\n",
       "      <td>17.210000</td>\n",
       "      <td>3.014286</td>\n",
       "      <td>28.942857</td>\n",
       "      <td>9.371429</td>\n",
       "      <td>35.0</td>\n",
       "      <td>23.9</td>\n",
       "      <td>5.8</td>\n",
       "      <td>6</td>\n",
       "    </tr>\n",
       "  </tbody>\n",
       "</table>\n",
       "<p>5 rows × 25 columns</p>\n",
       "</div>"
      ],
      "text/plain": [
       "  city  year  weekofyear week_start_date   ndvi_ne   ndvi_nw   ndvi_se  \\\n",
       "0   sj  1990          18      1990-04-30  0.122600  0.103725  0.198483   \n",
       "1   sj  1990          19      1990-05-07  0.169900  0.142175  0.162357   \n",
       "2   sj  1990          20      1990-05-14  0.032250  0.172967  0.157200   \n",
       "3   sj  1990          21      1990-05-21  0.128633  0.245067  0.227557   \n",
       "4   sj  1990          22      1990-05-28  0.196200  0.262200  0.251200   \n",
       "\n",
       "    ndvi_sw  prec_amt_mm  re_an_air_temp_k  ...  re_an_relative_hd_percent  \\\n",
       "0  0.177617        12.42        297.572857  ...                  73.365714   \n",
       "1  0.155486        22.82        298.211429  ...                  77.368571   \n",
       "2  0.170843        34.54        298.781429  ...                  82.052857   \n",
       "3  0.235886        15.36        298.987143  ...                  80.337143   \n",
       "4  0.247340         7.52        299.518571  ...                  80.460000   \n",
       "\n",
       "   re_an_sat_precip_amt_mm  re_an_specific_hd_g_per_kg  re_an_tdtr_k  \\\n",
       "0                    12.42                   14.012857      2.628571   \n",
       "1                    22.82                   15.372857      2.371429   \n",
       "2                    34.54                   16.848571      2.300000   \n",
       "3                    15.36                   16.672857      2.428571   \n",
       "4                     7.52                   17.210000      3.014286   \n",
       "\n",
       "   stn_avg_temp_c  stn_diur_temp_rng_c  stn_max_temp_c  stn_min_temp_c  \\\n",
       "0       25.442857             6.900000            29.4            20.0   \n",
       "1       26.714286             6.371429            31.7            22.2   \n",
       "2       26.714286             6.485714            32.2            22.8   \n",
       "3       27.471429             6.771429            33.3            23.3   \n",
       "4       28.942857             9.371429            35.0            23.9   \n",
       "\n",
       "   stn_precip_mm  total_cases  \n",
       "0           16.0            4  \n",
       "1            8.6            5  \n",
       "2           41.4            4  \n",
       "3            4.0            3  \n",
       "4            5.8            6  \n",
       "\n",
       "[5 rows x 25 columns]"
      ]
     },
     "execution_count": 3,
     "metadata": {},
     "output_type": "execute_result"
    }
   ],
   "source": [
    "dengue_df.head()"
   ]
  },
  {
   "cell_type": "code",
   "execution_count": 4,
   "metadata": {},
   "outputs": [
    {
     "data": {
      "text/plain": [
       "0"
      ]
     },
     "execution_count": 4,
     "metadata": {},
     "output_type": "execute_result"
    }
   ],
   "source": [
    "# check for missing values in the merged dataset\n",
    "dengue_df.isnull().sum().sum()"
   ]
  },
  {
   "cell_type": "markdown",
   "metadata": {},
   "source": [
    "#### Make an 80-20 stratified split based on the target data"
   ]
  },
  {
   "cell_type": "code",
   "execution_count": 5,
   "metadata": {},
   "outputs": [],
   "source": [
    "X = dengue_df.drop(['week_start_date','total_cases'],axis = 1)\n",
    "y = dengue_df['total_cases']\n",
    "#Split data into train and test datasets\n",
    "#X_train, X_test, y_train, y_test = train_test_split(X,y, stratify = y, test_size=0.20, random_state=42)"
   ]
  },
  {
   "cell_type": "markdown",
   "metadata": {},
   "source": [
    "<b>Error in stratified splitting</b>\n",
    "<br>\n",
    "- The initial startified split will have an error becasue of the of the nature of stratification. The target variable 'total_cases' has few entries in the dataframe that appear only once. So we update the dataset to contain only total cases which appear more than once."
   ]
  },
  {
   "cell_type": "code",
   "execution_count": 6,
   "metadata": {},
   "outputs": [
    {
     "name": "stdout",
     "output_type": "stream",
     "text": [
      "(1409, 25)\n"
     ]
    }
   ],
   "source": [
    "# Eliminating entries\n",
    "dengue_df =  dengue_df.groupby('total_cases').filter(lambda t: len(t) > 1)\n",
    "print(dengue_df.shape)"
   ]
  },
  {
   "cell_type": "code",
   "execution_count": 7,
   "metadata": {},
   "outputs": [],
   "source": [
    "X = dengue_df.drop(['week_start_date','total_cases'],axis = 1)\n",
    "y = dengue_df['total_cases']\n",
    "# strafied split with no error\n",
    "X_train, X_test, y_train, y_test = train_test_split(X,y, stratify = y, test_size=0.20, random_state=42)"
   ]
  },
  {
   "cell_type": "markdown",
   "metadata": {},
   "source": [
    "## Preprocessing\n",
    "</br>\n",
    "\n",
    "\n",
    "####  Encode the categorical features and Standardize the numerical features"
   ]
  },
  {
   "cell_type": "code",
   "execution_count": 8,
   "metadata": {},
   "outputs": [],
   "source": [
    "#Convert city and year as category\n",
    "X_train['city'] = X_train['city'].astype('category')\n",
    "X_train['year'] = X_train['year'].astype('category')\n",
    "X_test['city'] = X_test['city'].astype('category')\n",
    "X_test['year'] = X_test['year'].astype('category')"
   ]
  },
  {
   "cell_type": "code",
   "execution_count": 9,
   "metadata": {},
   "outputs": [],
   "source": [
    "# encoding the values of the city and year\n",
    "X_dummies_tr = pd.get_dummies(X_train[['city','year']])\n",
    "#X_dummies_tr = np.array(X_dummies_tr)\n",
    "X_dummies_test = pd.get_dummies(X_test[['city','year']])\n",
    "#X_dummies_test = np.array(X_dummies_test)"
   ]
  },
  {
   "cell_type": "code",
   "execution_count": 10,
   "metadata": {},
   "outputs": [
    {
     "data": {
      "text/plain": [
       "Index(['city_iq', 'city_sj', 'year_1990', 'year_1991', 'year_1992',\n",
       "       'year_1993', 'year_1994', 'year_1995', 'year_1996', 'year_1997',\n",
       "       'year_1998', 'year_1999', 'year_2000', 'year_2001', 'year_2002',\n",
       "       'year_2003', 'year_2004', 'year_2005', 'year_2006', 'year_2007',\n",
       "       'year_2008', 'year_2009', 'year_2010'],\n",
       "      dtype='object')"
      ]
     },
     "execution_count": 10,
     "metadata": {},
     "output_type": "execute_result"
    }
   ],
   "source": [
    "X_dummies_tr.columns"
   ]
  },
  {
   "cell_type": "code",
   "execution_count": 11,
   "metadata": {},
   "outputs": [
    {
     "data": {
      "text/html": [
       "<div>\n",
       "<style scoped>\n",
       "    .dataframe tbody tr th:only-of-type {\n",
       "        vertical-align: middle;\n",
       "    }\n",
       "\n",
       "    .dataframe tbody tr th {\n",
       "        vertical-align: top;\n",
       "    }\n",
       "\n",
       "    .dataframe thead th {\n",
       "        text-align: right;\n",
       "    }\n",
       "</style>\n",
       "<table border=\"1\" class=\"dataframe\">\n",
       "  <thead>\n",
       "    <tr style=\"text-align: right;\">\n",
       "      <th></th>\n",
       "      <th>city_iq</th>\n",
       "      <th>city_sj</th>\n",
       "      <th>year_1990</th>\n",
       "      <th>year_1991</th>\n",
       "      <th>year_1992</th>\n",
       "      <th>year_1993</th>\n",
       "      <th>year_1994</th>\n",
       "      <th>year_1995</th>\n",
       "      <th>year_1996</th>\n",
       "      <th>year_1997</th>\n",
       "      <th>...</th>\n",
       "      <th>year_2001</th>\n",
       "      <th>year_2002</th>\n",
       "      <th>year_2003</th>\n",
       "      <th>year_2004</th>\n",
       "      <th>year_2005</th>\n",
       "      <th>year_2006</th>\n",
       "      <th>year_2007</th>\n",
       "      <th>year_2008</th>\n",
       "      <th>year_2009</th>\n",
       "      <th>year_2010</th>\n",
       "    </tr>\n",
       "  </thead>\n",
       "  <tbody>\n",
       "    <tr>\n",
       "      <td>718</td>\n",
       "      <td>0</td>\n",
       "      <td>1</td>\n",
       "      <td>0</td>\n",
       "      <td>0</td>\n",
       "      <td>0</td>\n",
       "      <td>0</td>\n",
       "      <td>0</td>\n",
       "      <td>0</td>\n",
       "      <td>0</td>\n",
       "      <td>0</td>\n",
       "      <td>...</td>\n",
       "      <td>0</td>\n",
       "      <td>0</td>\n",
       "      <td>0</td>\n",
       "      <td>1</td>\n",
       "      <td>0</td>\n",
       "      <td>0</td>\n",
       "      <td>0</td>\n",
       "      <td>0</td>\n",
       "      <td>0</td>\n",
       "      <td>0</td>\n",
       "    </tr>\n",
       "    <tr>\n",
       "      <td>80</td>\n",
       "      <td>0</td>\n",
       "      <td>1</td>\n",
       "      <td>0</td>\n",
       "      <td>1</td>\n",
       "      <td>0</td>\n",
       "      <td>0</td>\n",
       "      <td>0</td>\n",
       "      <td>0</td>\n",
       "      <td>0</td>\n",
       "      <td>0</td>\n",
       "      <td>...</td>\n",
       "      <td>0</td>\n",
       "      <td>0</td>\n",
       "      <td>0</td>\n",
       "      <td>0</td>\n",
       "      <td>0</td>\n",
       "      <td>0</td>\n",
       "      <td>0</td>\n",
       "      <td>0</td>\n",
       "      <td>0</td>\n",
       "      <td>0</td>\n",
       "    </tr>\n",
       "    <tr>\n",
       "      <td>1232</td>\n",
       "      <td>1</td>\n",
       "      <td>0</td>\n",
       "      <td>0</td>\n",
       "      <td>0</td>\n",
       "      <td>0</td>\n",
       "      <td>0</td>\n",
       "      <td>0</td>\n",
       "      <td>0</td>\n",
       "      <td>0</td>\n",
       "      <td>0</td>\n",
       "      <td>...</td>\n",
       "      <td>0</td>\n",
       "      <td>0</td>\n",
       "      <td>0</td>\n",
       "      <td>0</td>\n",
       "      <td>0</td>\n",
       "      <td>1</td>\n",
       "      <td>0</td>\n",
       "      <td>0</td>\n",
       "      <td>0</td>\n",
       "      <td>0</td>\n",
       "    </tr>\n",
       "    <tr>\n",
       "      <td>1084</td>\n",
       "      <td>1</td>\n",
       "      <td>0</td>\n",
       "      <td>0</td>\n",
       "      <td>0</td>\n",
       "      <td>0</td>\n",
       "      <td>0</td>\n",
       "      <td>0</td>\n",
       "      <td>0</td>\n",
       "      <td>0</td>\n",
       "      <td>0</td>\n",
       "      <td>...</td>\n",
       "      <td>0</td>\n",
       "      <td>0</td>\n",
       "      <td>1</td>\n",
       "      <td>0</td>\n",
       "      <td>0</td>\n",
       "      <td>0</td>\n",
       "      <td>0</td>\n",
       "      <td>0</td>\n",
       "      <td>0</td>\n",
       "      <td>0</td>\n",
       "    </tr>\n",
       "    <tr>\n",
       "      <td>1119</td>\n",
       "      <td>1</td>\n",
       "      <td>0</td>\n",
       "      <td>0</td>\n",
       "      <td>0</td>\n",
       "      <td>0</td>\n",
       "      <td>0</td>\n",
       "      <td>0</td>\n",
       "      <td>0</td>\n",
       "      <td>0</td>\n",
       "      <td>0</td>\n",
       "      <td>...</td>\n",
       "      <td>0</td>\n",
       "      <td>0</td>\n",
       "      <td>0</td>\n",
       "      <td>1</td>\n",
       "      <td>0</td>\n",
       "      <td>0</td>\n",
       "      <td>0</td>\n",
       "      <td>0</td>\n",
       "      <td>0</td>\n",
       "      <td>0</td>\n",
       "    </tr>\n",
       "  </tbody>\n",
       "</table>\n",
       "<p>5 rows × 23 columns</p>\n",
       "</div>"
      ],
      "text/plain": [
       "      city_iq  city_sj  year_1990  year_1991  year_1992  year_1993  year_1994  \\\n",
       "718         0        1          0          0          0          0          0   \n",
       "80          0        1          0          1          0          0          0   \n",
       "1232        1        0          0          0          0          0          0   \n",
       "1084        1        0          0          0          0          0          0   \n",
       "1119        1        0          0          0          0          0          0   \n",
       "\n",
       "      year_1995  year_1996  year_1997  ...  year_2001  year_2002  year_2003  \\\n",
       "718           0          0          0  ...          0          0          0   \n",
       "80            0          0          0  ...          0          0          0   \n",
       "1232          0          0          0  ...          0          0          0   \n",
       "1084          0          0          0  ...          0          0          1   \n",
       "1119          0          0          0  ...          0          0          0   \n",
       "\n",
       "      year_2004  year_2005  year_2006  year_2007  year_2008  year_2009  \\\n",
       "718           1          0          0          0          0          0   \n",
       "80            0          0          0          0          0          0   \n",
       "1232          0          0          1          0          0          0   \n",
       "1084          0          0          0          0          0          0   \n",
       "1119          1          0          0          0          0          0   \n",
       "\n",
       "      year_2010  \n",
       "718           0  \n",
       "80            0  \n",
       "1232          0  \n",
       "1084          0  \n",
       "1119          0  \n",
       "\n",
       "[5 rows x 23 columns]"
      ]
     },
     "execution_count": 11,
     "metadata": {},
     "output_type": "execute_result"
    }
   ],
   "source": [
    "X_dummies_tr.head()"
   ]
  },
  {
   "cell_type": "code",
   "execution_count": 12,
   "metadata": {},
   "outputs": [],
   "source": [
    "# standardizing Numerical data\n",
    "scaler = preprocessing.StandardScaler()\n",
    "# training data - avoid categorical columns\n",
    "st_numeric_data = scaler.fit_transform(X_train.drop(columns = ['city', 'year']))\n",
    "X_train = np.concatenate((st_numeric_data, X_dummies_tr), axis =1)\n",
    "# test data -- avoid categorical columns\n",
    "st_numeric_data = scaler.transform(X_test.drop(columns = ['city', 'year']))\n",
    "X_test = np.concatenate((st_numeric_data, X_dummies_test), axis =1)\n",
    "X_test=np.array(X_test)\n",
    "y_test=np.array(y_test)"
   ]
  },
  {
   "cell_type": "markdown",
   "metadata": {},
   "source": [
    "### Model Building\n",
    "</br>\n",
    "\n",
    "#### Build a stochastic gradient descent regressor, train the model"
   ]
  },
  {
   "cell_type": "code",
   "execution_count": 13,
   "metadata": {},
   "outputs": [],
   "source": [
    "#SGD Regressor - Initial model with ni tuning\n",
    "sgd_reg_init = SGDRegressor(max_iter=1000)\n",
    "#loss = 'epsilon_insensitive', \n",
    "sgd_reg_init.fit(X_train, y_train)\n",
    "y_pred_init = sgd_reg_init.predict(X_test)"
   ]
  },
  {
   "cell_type": "code",
   "execution_count": 14,
   "metadata": {},
   "outputs": [
    {
     "name": "stdout",
     "output_type": "stream",
     "text": [
      "Mean Squared Error : 239.13229605545075\n",
      "Mean Aboslute Error : 10.79630489931846\n",
      "Root Mean Squared Error  15.463903002006019\n"
     ]
    }
   ],
   "source": [
    "# Metrics\n",
    "print('Mean Squared Error :',mean_squared_error(y_test, y_pred_init))\n",
    "print('Mean Aboslute Error :',mean_absolute_error(y_test, y_pred_init))\n",
    "print('Root Mean Squared Error ',sqrt(mean_squared_error(y_test, y_pred_init)))"
   ]
  },
  {
   "cell_type": "markdown",
   "metadata": {},
   "source": [
    "1. I tried to reduce the learning rate gradually starting from 0.5. The ideal point for the learning rate seem to be 0.01  with number of iterations as 1000.\n",
    "2. The loss function is left as the default, \"squared_loss\". Using the default loss function has the lowest value of MSE among all the other.\n",
    "3. The Penalty hyperparameter adds the regularization term to the cost function with default value 'I2' \n",
    "<br>\n",
    "\n",
    "\n",
    "\n",
    "Tuning these hyperparameters has improved the model accuracy to some extent."
   ]
  },
  {
   "cell_type": "code",
   "execution_count": 15,
   "metadata": {},
   "outputs": [
    {
     "data": {
      "text/plain": [
       "SGDRegressor(alpha=0.0001, average=False, early_stopping=False, epsilon=0.1,\n",
       "             eta0=0.01, fit_intercept=True, l1_ratio=0.15,\n",
       "             learning_rate='adaptive', loss='squared_loss', max_iter=1000,\n",
       "             n_iter_no_change=5, penalty='l2', power_t=0.25, random_state=None,\n",
       "             shuffle=True, tol=0.001, validation_fraction=0.1, verbose=0,\n",
       "             warm_start=False)"
      ]
     },
     "execution_count": 15,
     "metadata": {},
     "output_type": "execute_result"
    }
   ],
   "source": [
    "#SGD Regressor \n",
    "sgd_reg = SGDRegressor(max_iter=1000,eta0 = 0.01,learning_rate = 'adaptive')\n",
    "#loss = 'epsilon_insensitive', \n",
    "sgd_reg.fit(X_train, y_train)"
   ]
  },
  {
   "cell_type": "code",
   "execution_count": 16,
   "metadata": {},
   "outputs": [
    {
     "data": {
      "image/png": "[encoded data removed]",
      "text/plain": [
       "<Figure size 432x288 with 1 Axes>"
      ]
     },
     "metadata": {
      "needs_background": "light"
     },
     "output_type": "display_data"
    }
   ],
   "source": [
    "y_pred = sgd_reg.predict(X_test)\n",
    "plt.scatter(y_test,y_pred)\n",
    "plt.grid()\n",
    "plt.xlabel('Actual cases')\n",
    "plt.ylabel('Predicted cases')\n",
    "plt.title('Scatter plot from actual total cases and predicted total cases')\n",
    "plt.show()"
   ]
  },
  {
   "cell_type": "markdown",
   "metadata": {},
   "source": [
    "To evaluate the model I have chose below metrics:\n",
    "<br>\n",
    "We prefer RMSE as the measure for a regression as the RMSE value gives us an idea of how much error the model makes in its predictions.\n"
   ]
  },
  {
   "cell_type": "code",
   "execution_count": 17,
   "metadata": {},
   "outputs": [
    {
     "name": "stdout",
     "output_type": "stream",
     "text": [
      "Mean Squared Error : 231.35601622203635\n",
      "Mean Aboslute Error : 10.544455990454482\n",
      "Root Mean Squared Error  15.210391718231202\n"
     ]
    }
   ],
   "source": [
    "# Metrics\n",
    "print('Mean Squared Error :',mean_squared_error(y_test, y_pred))\n",
    "print('Mean Aboslute Error :',mean_absolute_error(y_test, y_pred))\n",
    "print('Root Mean Squared Error ',sqrt(mean_squared_error(y_test, y_pred)))"
   ]
  },
  {
   "cell_type": "code",
   "execution_count": 18,
   "metadata": {},
   "outputs": [
    {
     "name": "stdout",
     "output_type": "stream",
     "text": [
      "[14.6979133]\n",
      "[  4.36462805  -0.79338011   0.61542921   0.73417626  -0.14021846\n",
      "   0.5703428    5.94216426  -5.12155314  -6.77111727  -1.38481348\n",
      "  -3.48682165  -0.47838024  -8.26055223   0.5703428   16.7461438\n",
      "  -5.760966    -3.7173396    3.13606033  -1.74695155   1.70483948\n",
      "  -0.6847565   11.52915594   2.75936163  -2.70041949  22.47572355\n",
      "  18.39710887   0.12749497  19.00044635  -0.44369099  -7.32716847\n",
      "   3.89542051  37.24359848   3.80185039 -15.55921613  -4.54346747\n",
      "  -9.78850317  -9.63281014  -6.91944896  -4.89718202 -11.59950923\n",
      "   0.49229828  -1.7165562   -9.76897833  -6.24847325]\n"
     ]
    }
   ],
   "source": [
    "print(sgd_reg.intercept_)\n",
    "print(sgd_reg.coef_)"
   ]
  },
  {
   "cell_type": "markdown",
   "metadata": {},
   "source": [
    "#### Learning curve and insights"
   ]
  },
  {
   "cell_type": "code",
   "execution_count": 19,
   "metadata": {},
   "outputs": [
    {
     "data": {
      "text/plain": [
       "<matplotlib.legend.Legend at 0x7fb0fb3d2990>"
      ]
     },
     "execution_count": 19,
     "metadata": {},
     "output_type": "execute_result"
    },
    {
     "data": {
      "image/png": "[encoded data removed]",
      "text/plain": [
       "<Figure size 432x288 with 1 Axes>"
      ]
     },
     "metadata": {
      "needs_background": "light"
     },
     "output_type": "display_data"
    }
   ],
   "source": [
    "train_errors = []\n",
    "test_errors = []\n",
    "for m in range(1, len(X_train)):\n",
    "    sgd_reg = SGDRegressor(max_iter=600,eta0 = 0.01,learning_rate = 'adaptive')\n",
    "    sgd_reg.fit(X_train[:m],y_train[:m])\n",
    "    y_train_pred = sgd_reg.predict(X_train[:m])\n",
    "    y_test_pred = sgd_reg.predict(X_test)\n",
    "    train_errors.append(mean_squared_error(y_train_pred, y_train[:m]))\n",
    "    test_errors.append(mean_squared_error(y_test_pred, y_test))\n",
    "\n",
    "plt.plot(np.sqrt(train_errors),\"b-+\",linewidth=2, label=\"train\")\n",
    "plt.plot(np.sqrt(test_errors), \"r-\", linewidth=3, label=\"test\")\n",
    "plt.title('Learning Curve')\n",
    "plt.xlabel('Training set size')\n",
    "plt.ylabel('RMSE')\n",
    "plt.legend()"
   ]
  },
  {
   "cell_type": "markdown",
   "metadata": {},
   "source": [
    "- In the plot above the training curve starts at 0 which specifies that When there are one or two instances in the training set the model can fit them perfectly. But when new instances are added to training set, it is impossible for the model to fit the data perfectly. The error on the training data goes up to some extent(plateau). At this point adding new instances to the training data doesn't make the error better or worse.\n",
    "- As the model was trained only with few instances and it is incapable of generalizing properly. So test data starts with high error and goes down slowly. The error ends up at plateau close to the training curve."
   ]
  },
  {
   "cell_type": "code",
   "execution_count": 20,
   "metadata": {},
   "outputs": [],
   "source": [
    "dengue_features = pd.read_csv('dengue_features_test.csv')\n",
    "dengue_features = (dengue_features.fillna(method='ffill'))"
   ]
  },
  {
   "cell_type": "code",
   "execution_count": 21,
   "metadata": {},
   "outputs": [
    {
     "data": {
      "text/plain": [
       "(416, 24)"
      ]
     },
     "execution_count": 21,
     "metadata": {},
     "output_type": "execute_result"
    }
   ],
   "source": [
    "dengue_features.shape"
   ]
  },
  {
   "cell_type": "code",
   "execution_count": 22,
   "metadata": {},
   "outputs": [],
   "source": [
    "dengue_features['city'] = dengue_features['city'].astype('category')\n",
    "dengue_features['year'] = dengue_features['year'].astype('category')\n",
    "df_dummies = pd.get_dummies(dengue_features[['city','year']])\n",
    "df_dummies = dengue_features.reindex(columns = X_dummies_tr.columns, fill_value=0)"
   ]
  },
  {
   "cell_type": "code",
   "execution_count": 23,
   "metadata": {},
   "outputs": [],
   "source": [
    "st_pred_data = scaler.transform(dengue_features.drop(columns =['city', 'year','week_start_date']))\n",
    "test_data = np.concatenate((st_pred_data, df_dummies), axis =1)"
   ]
  },
  {
   "cell_type": "code",
   "execution_count": 24,
   "metadata": {},
   "outputs": [],
   "source": [
    "predictions = sgd_reg.predict(test_data)"
   ]
  },
  {
   "cell_type": "code",
   "execution_count": 25,
   "metadata": {},
   "outputs": [
    {
     "data": {
      "text/plain": [
       "array([14, 16, 16, 14, 16, 19, 22, 21, 21, 24, 25, 23, 25, 22, 27, 25, 25,\n",
       "       29, 28, 30, 30, 29, 29, 29, 27, 30, 27, 30, 30, 29, 28, 31, 30, 26,\n",
       "       28, 10, 15, 12,  8, 10, 10, 11, 11, 12, 14,  7, 11, 11, 12, 12, 14,\n",
       "       13, 14, 13, 14, 15, 22, 18, 19, 21, 21, 22, 22, 23, 22, 23, 24, 27,\n",
       "       27, 26, 23, 25, 23, 27, 29, 29, 27, 29, 28, 27, 30, 30, 30, 32, 31,\n",
       "       29, 29, 29,  8, 10,  7, 14, 15, 12,  9, 10, 10, 10, 11, 17, 18, 14,\n",
       "       16, 13, 17, 15, 19, 19, 20, 25, 24, 27, 24, 27, 25, 25, 23, 27, 27,\n",
       "       25, 28, 29, 28, 27, 32, 28, 32, 32, 33, 32, 30, 28, 29, 27, 31, 29,\n",
       "       29, 28, 23, 27, 10, 10, 14, 13, 12, 12, 12, 13, 14, 13, 14, 14, 13,\n",
       "       12, 13, 15, 12, 16, 16, 10, 17, 24, 22, 21, 24, 23, 26, 24, 26, 27,\n",
       "       26, 27, 27, 29, 30, 28, 28, 34, 33, 31, 30, 31, 29, 30, 31, 33, 29,\n",
       "       28, 27, 32, 26, 27, 12, 13, 12, 10, 11, 13,  9, 12, 10, 13, 14, 14,\n",
       "       10, 13, 12, 14, 13, 13, 16, 19, 18, 19, 19, 20, 20, 18, 21, 22, 22,\n",
       "       24, 23, 24, 24, 25, 26, 27, 24, 25, 28, 31, 28, 28, 30, 27, 28, 28,\n",
       "       29, 28, 28, 27, 24, 10, 11, 13, 11,  9, 10, 12, 11, 12,  9, 11, 11,\n",
       "       11, 10, 13, 12, 13,  1,  4, 10, -5,  3,  0,  3,  0,  3,  9,  8,  7,\n",
       "        0,  6,  5,  3,  0,  9, 13, 12,  8, 18,  8, 14, 15, 13, 10, -1, -3,\n",
       "       -3,  0, -1,  2, -2,  1,  3,  2,  5,  0,  8,  2,  4,  3,  2, 11,  0,\n",
       "        4,  2, -3,  1,  0, -5,  1, -1, -8,  2,  0, -1, -1,  0, -7, -4, -1,\n",
       "        5,  0,  7,  8,  6, 14, 10,  8,  7, 14, 11, 14, 11, 19, 14, 14, -1,\n",
       "       -3, -2,  0,  2,  0, -4, -2, -1,  4, -1, -2,  5, -1, -1,  4,  4, -3,\n",
       "        0,  9, -6, -4,  1,  1, -4, -2, -2,  7,  1, 11, -1,  2,  1,  3,  4,\n",
       "        0, -3,  0,  2,  4,  7,  4,  9, 11, 12,  9, 19, 19, 12, 16, 16,  2,\n",
       "       -8, -4, -1, -1, -3,  0,  2, -5,  0, -2,  5,  3, -2, -3,  3,  5, -3,\n",
       "        1,  2,  3,  0,  1,  1, -6,  0])"
      ]
     },
     "execution_count": 25,
     "metadata": {},
     "output_type": "execute_result"
    }
   ],
   "source": [
    "predictions = predictions.astype(\"int64\")\n",
    "predictions"
   ]
  },
  {
   "cell_type": "code",
   "execution_count": 26,
   "metadata": {},
   "outputs": [],
   "source": [
    "submission = dengue_features[['city','year','weekofyear']]\n",
    "submission['total_cases'] = predictions\n",
    "submission.to_csv(\"submission_Harika.csv\",index=False)"
   ]
  },
  {
   "cell_type": "code",
   "execution_count": 27,
   "metadata": {},
   "outputs": [],
   "source": [
    "submission['total_cases'] = submission['total_cases'].astype('int64')"
   ]
  },
  {
   "cell_type": "code",
   "execution_count": 28,
   "metadata": {},
   "outputs": [
    {
     "data": {
      "text/plain": [
       "city           category\n",
       "year           category\n",
       "weekofyear        int64\n",
       "total_cases       int64\n",
       "dtype: object"
      ]
     },
     "execution_count": 28,
     "metadata": {},
     "output_type": "execute_result"
    }
   ],
   "source": [
    "submission.dtypes"
   ]
  },
  {
   "cell_type": "code",
   "execution_count": 29,
   "metadata": {},
   "outputs": [
    {
     "name": "stdout",
     "output_type": "stream",
     "text": [
      "Mean Squared Error : 231.35601622203635\n",
      "Mean Aboslute Error : 10.544455990454482\n",
      "Root Mean Squared Error  15.210391718231202\n"
     ]
    }
   ],
   "source": [
    "print('Mean Squared Error :',mean_squared_error(y_test, y_pred))\n",
    "print('Mean Aboslute Error :',mean_absolute_error(y_test, y_pred))\n",
    "print('Root Mean Squared Error ',sqrt(mean_squared_error(y_test, y_pred)))"
   ]
  }
 ],
 "metadata": {
  "kernelspec": {
   "display_name": "Python 3",
   "language": "python",
   "name": "python3"
  },
  "language_info": {
   "codemirror_mode": {
    "name": "ipython",
    "version": 3
   },
   "file_extension": ".py",
   "mimetype": "text/x-python",
   "name": "python",
   "nbconvert_exporter": "python",
   "pygments_lexer": "ipython3",
   "version": "3.7.4"
  }
 },
 "nbformat": 4,
 "nbformat_minor": 2
}
